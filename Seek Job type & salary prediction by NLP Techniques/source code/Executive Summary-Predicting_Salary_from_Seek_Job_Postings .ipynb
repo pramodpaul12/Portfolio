{
 "cells": [
  {
   "cell_type": "markdown",
   "metadata": {},
   "source": [
    "# Executive Summary "
   ]
  },
  {
   "cell_type": "markdown",
   "metadata": {},
   "source": [
    "## Objective: \n",
    "\n",
    "<font color=green > 1) Identify the **main** factors that impact **salary** for a **data** related job. </font><BR>\n",
    "<font color=green > 2) Identify the **main** factors that categorize **job category** for a data related job. </font><BR>    \n",
    "Assumption is company already has an linear regression model to predict salary. <BR>\n",
    "Goal is to see how NLP techinques can help.  \n",
    "\n",
    "\n",
    "## Approach: \n",
    "The dataset was prepared by scraping data related jobs from seek for Melbourne location.\n",
    "\n",
    "### To find factors impacting Job Salary\n",
    "\n",
    "<font color= blue > **Models used:** Tf-idf vectoriser and Elastic net.</font><BR>\n",
    "<font color= blue > **Target:** Salary </font> <BR>\n",
    "<font color= blue > **Predictors:** Job title,Job level,Location,Job type(Contract or permanent), Job description </font><BR>\n",
    "\n",
    "\n",
    "### To find factors that categorised Job category:\n",
    "<font color= blue > **Models used:** Tf-idf vectoriser and Elastic net.</font><BR>\n",
    "<font color= blue > **Target:** Job title  </font> <BR>\n",
    "<font color= blue > **Predictors:** Job title,Job level,Location,Job type(Contract or permanent),Job description  </font><BR>\n",
    "\n",
    "\n",
    "\n",
    "\n",
    "\n",
    "\n",
    "\n",
    "## Factors that impact salary:\n",
    "\n",
    "\n",
    "### Main factors that impacted Job salary:\n",
    "a) Location <BR>\n",
    "b) Whether job was contract or permanent <BR>\n",
    "c) Job title (Analyst, Scientist, Manager) <BR>\n",
    "d) Job level (Entry, Junior, Mid, Senior, Lead, Manager) <BR>\n",
    "e) Key words in Job description\n",
    "\n",
    "### Main factors that categorised Job category:\n",
    "a) Job title (Analyst, Scientist, Manager) <BR>\n",
    "b) Job level (Entry, Junior, Mid, Senior, Lead, Manager) <BR>\n",
    "c) Location <BR>\n",
    "d) Key words in Job description <BR>\n",
    "\n",
    "\n",
    "### Appendix\n",
    "Please refer attached slide in presentation folder for more info.  \n",
    "    "
   ]
  },
  {
   "cell_type": "code",
   "execution_count": null,
   "metadata": {},
   "outputs": [],
   "source": []
  },
  {
   "cell_type": "code",
   "execution_count": null,
   "metadata": {},
   "outputs": [],
   "source": []
  }
 ],
 "metadata": {
  "kernelspec": {
   "display_name": "Python 3",
   "language": "python",
   "name": "python3"
  },
  "language_info": {
   "codemirror_mode": {
    "name": "ipython",
    "version": 3
   },
   "file_extension": ".py",
   "mimetype": "text/x-python",
   "name": "python",
   "nbconvert_exporter": "python",
   "pygments_lexer": "ipython3",
   "version": "3.7.1"
  }
 },
 "nbformat": 4,
 "nbformat_minor": 2
}
